{
 "cells": [
  {
   "cell_type": "code",
   "execution_count": 1,
   "metadata": {},
   "outputs": [],
   "source": [
    "import pickle\n",
    "import numpy as np\n",
    "import matplotlib.pyplot as plt\n",
    "\n",
    "dSet = [17, 65, 257, 1024]\n",
    "dPara = np.array(dSet)\n",
    "# NSet = [256, 256, 256, 256]\n",
    "# NSet = [64, 64, 64, 64]\n",
    "NSet = [16, 16, 16, 16]\n",
    "\n",
    "Ntrial = 10\n",
    "Niter = 200\n",
    "\n",
    "# makerTrue = ['g.--', 'k.--', 'm.--', 'c.--']\n",
    "# makerFalse = ['b.--', 'r.--', 'y.--', 'b.--']\n",
    "# makerFalse_WGF = [ 'm.--','c.--', 'k.--', 'g.--']\n",
    "makerTrue = ['g', 'k', 'm', 'c']\n",
    "makerFalse = ['b', 'r', 'y', 'b']\n",
    "makerFalse_WGF = [ 'm','c', 'k', 'g']\n",
    "makerRMSETrue = ['gx-', 'kd-', 'mo-', 'c*-']\n",
    "makerRMSEFalse = ['bs-', 'r*-', 'y<-', 'b>-']\n",
    "makerRMSEFalse_WGF = ['mo-','c*-', 'bs-', 'r*-']\n",
    "lineRMSETrue = ['g-', 'k-', 'm-', 'c-']\n",
    "lineRMSEFalse = ['b-', 'r-', 'y-', 'b-']\n",
    "lineRMSEFalse_WGF = ['m-','c-', 'b-', 'r-']\n",
    "\n",
    "meanErrorL2normTrue = np.zeros((4, Ntrial, Niter))\n",
    "varianceErrorL2normTrue = np.zeros((4, Ntrial, Niter))\n",
    "meanErrorL2normFalse = np.zeros((4, Ntrial, Niter))\n",
    "varianceErrorL2normFalse = np.zeros((4, Ntrial, Niter))\n",
    "meanErrorL2normFalse_WGF = np.zeros((4, Ntrial, Niter))\n",
    "varianceErrorL2normFalse_WGF = np.zeros((4, Ntrial, Niter))\n",
    "meanErrorL2normSVGD = np.zeros((4, Ntrial, Niter))\n",
    "varianceErrorL2normSVGD = np.zeros((4, Ntrial, Niter))\n",
    "labelTrue = ['pSVGD d=17', 'pSVGD d=65', 'pSVGD d=257', 'pSVGD d=1025']\n",
    "labelFalse = ['SVGD d=17', 'SVGD d=65', 'SVGD d=257', 'SVGD d=1025']\n",
    "labelFalse_WGF = ['WGF d=17', 'WGF d=65', 'WGF d=257', 'WGF d=1025']\n",
    "fig1 = plt.figure(1)\n",
    "fig2 = plt.figure(2)\n",
    "\n",
    "case = 1\n",
    "d, N = dSet[case], NSet[case]"
   ]
  },
  {
   "cell_type": "code",
   "execution_count": 6,
   "metadata": {},
   "outputs": [
    {
     "name": "stdout",
     "output_type": "stream",
     "text": [
      "./data/data_nDimensions_65_nCores_1_nSamples_16_isProjection_False_SVGD_1.p\n",
      "[1.9802763163340293, 1.1974520789941581, 1.152162416581497, 1.1106982009492874, 1.071372637510726, 1.0374928085268578, 1.0081152394975015, 0.97993897357850779, 0.95559734736704005, 0.93436699597672845, 0.9137396506020572, 0.89618477456846435, 0.87898477614857096, 0.86415905969824691, 0.84862527642279539, 0.83581065807695132, 0.82217444720654753, 0.81057163548696309, 0.79826154211373557, 0.78714005773024076, 0.77577339120900068, 0.76477409217244574, 0.75409364772761012, 0.74368383945727479, 0.73351203011709754, 0.7235490211125859, 0.71377474920381445, 0.7041714899504441, 0.69472696826116997, 0.68543029202075112, 0.67627384990570938, 0.66725076382213433, 0.65835615239150214, 0.64958546920575921, 0.64093540200644983, 0.63240274734263024, 0.62398508216281268, 0.61567997353490445, 0.6074854980593557, 0.59939966674566603, 0.59142083743472829, 0.5835472814933762, 0.5757775183397138, 0.56810997802836671, 0.56054327769231094, 0.55307595059891157, 0.54570667856464938, 0.53843406819972772, 0.53125684955978758, 0.52417368663791608, 0.51718334990545245, 0.51028455214930313, 0.50347610069855453, 0.49675675232585315, 0.49012534961139026, 0.48358069036002682, 0.47712165156595443, 0.47074706996470389, 0.46445585632952369, 0.45824688457811497, 0.45211909858637855, 0.4463277601074645, 0.44035510668815792, 0.43479328617551793, 0.4289709877488731, 0.42346832692852926, 0.41779414544358123, 0.41219449366866889, 0.40666835719365091, 0.4012144665979307, 0.39583213297272474, 0.39052008537452648, 0.38527780587404858, 0.38010396651953648, 0.37499815967945327, 0.36995901956458382, 0.36498622124761465, 0.36007837316413727, 0.35523522096398497, 0.35045535189431631, 0.34573857750320502, 0.34108346393690542, 0.33648988794982804, 0.33195639192675941, 0.32748291961860149, 0.32306798509838575, 0.31871160272839261, 0.31441225221647096, 0.31017002370543617, 0.30598335512132419, 0.30185241903574594, 0.29777560281248472, 0.29375316961874071, 0.28978344601888795, 0.28586679558098299, 0.28200147221181743, 0.27818795151120557, 0.27442440102083371, 0.27071142208019594, 0.26704708001648358, 0.26343211801243499, 0.25986448082773367, 0.25634507238071824, 0.25287169556702677, 0.24944543720039017, 0.24606393354183215, 0.24272848030650032, 0.23943651823893772, 0.23618958250559732, 0.23298488457710201, 0.22982423500475441, 0.22670457643597705, 0.22362803713492541, 0.22059124448586823, 0.21759669440562227, 0.21464064436604161, 0.21172601695582291, 0.20884863529216097, 0.2060119185059146, 0.20321117922083287, 0.20045041597328561, 0.19772434076842407, 0.19503762999878921, 0.19238428818315587, 0.1899162218802857, 0.18733160358231421, 0.18478523077023987, 0.18226977071198647, 0.17990264369194497, 0.17745287814408489, 0.17504039578778816, 0.17265629468281971, 0.17037863485308988, 0.16805743164859629, 0.16577301104545139, 0.16358501981868179, 0.16136169495845185, 0.15916267677157184, 0.15706331360542139, 0.15492252860371764, 0.1528185602944355, 0.15073569012734639, 0.14869029662331082, 0.14666406224299672, 0.14467636684903737, 0.14270570965684071, 0.14077511478962923, 0.13891460632383923, 0.13711916044659597, 0.13533389771508347, 0.13358486039380846, 0.13184562488486951, 0.13014180080289595, 0.12844739655750531, 0.12678765172381726, 0.1251369334465646, 0.12352017064023083, 0.12191202754887226, 0.12033717900473578, 0.11877053019868099, 0.11723655522412067, 0.11571034773343414, 0.11421623156896832, 0.11272943919668681, 0.11127419229458393, 0.10982581477728236, 0.1084084722576476, 0.1069975345824674, 0.1056171557779471, 0.10424270758964126, 0.10289837564208879, 0.10155949071031986, 0.1002503122039821, 0.098946087937029081, 0.097671192562153175, 0.096400749560619878, 0.095159289805753389, 0.093921771453624278, 0.092712922327113173, 0.091507494419617322, 0.090330453202112929, 0.089156303611233681, 0.088010289641937259, 0.086866628021455089, 0.085750882521597724, 0.084636940054468104, 0.083550725992264069, 0.082465755184021591, 0.081408357186105493, 0.080351631708894991, 0.079322356024094542, 0.078293170616916513, 0.077291345139160278, 0.076289015571001151, 0.075313989929234604, 0.074337853032977519, 0.073388998757190099, 0.072438412543583963, 0.071515123317472479, 0.070589467180029272]\n"
     ]
    }
   ],
   "source": [
    "for i in range(Ntrial):\n",
    "    filename = './data/data_nDimensions_{}_nCores_1_nSamples_{}_isProjection_False_SVGD_{}.p'.format(d,N,i+1)\n",
    "    data_save = pickle.load(open(filename, 'rb'))\n",
    "    print(filename)\n",
    "    print(data_save.items()[10][1])\n",
    "    meanErrorL2normFalse_i = data_save[\"meanErrorL2norm\"]\n",
    "    varianceErrorL2normFalse_i = data_save[\"varianceErrorL2norm\"]\n",
    "    meanErrorL2normFalse[case, i, :] = meanErrorL2normFalse_i\n",
    "    varianceErrorL2normFalse[case, i, :] = varianceErrorL2normFalse_i\n",
    "    filename = './data/data_nDimensions_{}_nCores_1_nSamples_{}_isProjection_True_SVGD_{}.p'.format(d,N,i+1)\n",
    "    data_save = pickle.load(open(filename, 'rb'))\n",
    "    meanErrorL2normTrue_i = data_save[\"meanErrorL2norm\"]\n",
    "    varianceErrorL2normTrue_i = data_save[\"varianceErrorL2norm\"]\n",
    "    meanErrorL2normTrue[case, i, :] = meanErrorL2normTrue_i\n",
    "    varianceErrorL2normTrue[case, i, :] = varianceErrorL2normTrue_i\n",
    "    filename = './data/data_nDimensions_{}_nCores_1_nSamples_{}_isProjection_False_WGF_{}.p'.format(d,N,i+1)\n",
    "    data_save = pickle.load(open(filename, 'rb'))\n",
    "    meanErrorL2normFalse_i = data_save[\"meanErrorL2norm\"]\n",
    "    varianceErrorL2normFalse_i = data_save[\"varianceErrorL2norm\"]\n",
    "    meanErrorL2normFalse_WGF[case, i, :] = meanErrorL2normFalse_i\n",
    "    varianceErrorL2normFalse_WGF[case, i, :] = varianceErrorL2normFalse_i"
   ]
  },
  {
   "cell_type": "code",
   "execution_count": 3,
   "metadata": {},
   "outputs": [
    {
     "name": "stdout",
     "output_type": "stream",
     "text": [
      "[ 0.  0.  0.  0.  0.  0.  0.  0.  0.  0.  0.  0.  0.  0.  0.  0.  0.  0.\n",
      "  0.  0.  0.  0.  0.  0.  0.  0.  0.  0.  0.  0.  0.  0.  0.  0.  0.  0.\n",
      "  0.  0.  0.  0.  0.  0.  0.  0.  0.  0.  0.  0.  0.  0.  0.  0.  0.  0.\n",
      "  0.  0.  0.  0.  0.  0.  0.  0.  0.  0.  0.  0.  0.  0.  0.  0.  0.  0.\n",
      "  0.  0.  0.  0.  0.  0.  0.  0.  0.  0.  0.  0.  0.  0.  0.  0.  0.  0.\n",
      "  0.  0.  0.  0.  0.  0.  0.  0.  0.  0.  0.  0.  0.  0.  0.  0.  0.  0.\n",
      "  0.  0.  0.  0.  0.  0.  0.  0.  0.  0.  0.  0.  0.  0.  0.  0.  0.  0.\n",
      "  0.  0.  0.  0.  0.  0.  0.  0.  0.  0.  0.  0.  0.  0.  0.  0.  0.  0.\n",
      "  0.  0.  0.  0.  0.  0.  0.  0.  0.  0.  0.  0.  0.  0.  0.  0.  0.  0.\n",
      "  0.  0.  0.  0.  0.  0.  0.  0.  0.  0.  0.  0.  0.  0.  0.  0.  0.  0.\n",
      "  0.  0.  0.  0.  0.  0.  0.  0.  0.  0.  0.  0.  0.  0.  0.  0.  0.  0.\n",
      "  0.  0.]\n"
     ]
    },
    {
     "name": "stderr",
     "output_type": "stream",
     "text": [
      "/usr/local/lib/python2.7/dist-packages/ipykernel_launcher.py:13: RuntimeWarning: divide by zero encountered in log10\n",
      "  del sys.path[0]\n",
      "/usr/local/lib/python2.7/dist-packages/ipykernel_launcher.py:14: RuntimeWarning: divide by zero encountered in log10\n",
      "  \n",
      "/usr/local/lib/python2.7/dist-packages/ipykernel_launcher.py:15: RuntimeWarning: divide by zero encountered in log10\n",
      "  from ipykernel import kernelapp as app\n",
      "/usr/local/lib/python2.7/dist-packages/ipykernel_launcher.py:16: RuntimeWarning: divide by zero encountered in log10\n",
      "  app.launch_new_instance()\n",
      "/usr/local/lib/python2.7/dist-packages/ipykernel_launcher.py:17: RuntimeWarning: divide by zero encountered in log10\n",
      "/usr/local/lib/python2.7/dist-packages/ipykernel_launcher.py:18: RuntimeWarning: divide by zero encountered in log10\n",
      "/usr/local/lib/python2.7/dist-packages/ipykernel_launcher.py:19: RuntimeWarning: divide by zero encountered in log10\n",
      "/usr/local/lib/python2.7/dist-packages/ipykernel_launcher.py:20: RuntimeWarning: divide by zero encountered in log10\n",
      "/usr/local/lib/python2.7/dist-packages/ipykernel_launcher.py:21: RuntimeWarning: divide by zero encountered in log10\n"
     ]
    }
   ],
   "source": [
    "fig1=plt.figure(1)\n",
    "\n",
    "interval = 10\n",
    "iter_num = 200\n",
    "iters = np.arange(iter_num)\n",
    "\n",
    "i = 1\n",
    "print(meanErrorL2normFalse[case, i, :])\n",
    "\n",
    "# print(iters[0:200:5])\n",
    "# print(np.log10(np.sqrt(np.mean(meanErrorL2normFalse[case,:,:]**2, axis=0)))[0:200:5])\n",
    "# for i in range(Ntrial):\n",
    "#     plt.plot(np.log10(meanErrorL2normFalse[case, i, :]), makerFalse[case], alpha=0.2)\n",
    "#     plt.plot(np.log10(meanErrorL2normTrue[case, i, :]), makerTrue[case], alpha=0.2)\n",
    "#     plt.plot(np.log10(meanErrorL2normFalse_WGF[case, i, :]), makerFalse_WGF[case], alpha=0.2)\n",
    "# plt.plot(np.log10(np.sqrt(np.mean(meanErrorL2normFalse[case,:,:]**2, axis=0))), lineRMSEFalse[case], linewidth=3)\n",
    "# plt.plot(np.log10(np.sqrt(np.mean(meanErrorL2normTrue[case,:,:]**2, axis=0))), lineRMSETrue[case], linewidth=3)\n",
    "# plt.plot(np.log10(np.sqrt(np.mean(meanErrorL2normFalse_WGF[case,:,:]**2, axis=0))), lineRMSEFalse_WGF[case], linewidth=3)\n",
    "# plt.plot(iters[0:iter_num:interval],np.log10(np.sqrt(np.mean(meanErrorL2normFalse[case,:,:]**2, axis=0)))[0:iter_num:interval], makerRMSEFalse[case], linewidth=3, label=labelFalse[case])\n",
    "# plt.plot(iters[0:iter_num:interval],np.log10(np.sqrt(np.mean(meanErrorL2normTrue[case,:,:]**2, axis=0)))[0:iter_num:interval], makerRMSETrue[case], linewidth=3, label=labelTrue[case])\n",
    "# plt.plot(iters[0:iter_num:interval],np.log10(np.sqrt(np.mean(meanErrorL2normFalse_WGF[case,:,:]**2, axis=0)))[0:iter_num:interval], makerRMSEFalse_WGF[case], linewidth=3, label=labelFalse_WGF[case])\n",
    "# plt.legend(fontsize=16)\n",
    "# plt.xlabel(\"# iterations\", fontsize=16)\n",
    "# plt.ylabel(\"Log10(RMSE of mean)\", fontsize=16)\n",
    "\n",
    "# plt.tick_params(axis='both', which='major', labelsize=16)\n",
    "# plt.tick_params(axis='both', which='minor', labelsize=16)\n",
    "\n",
    "# filename = \"figure/error_mean_\"+\"SVGD.pdf\"\n",
    "# fig1.savefig(filename, format='pdf', bbox_inches='tight')\n",
    "# filename = \"figure/error_mean_\"+\"SVGD.eps\"\n",
    "# fig1.savefig(filename, format='eps', bbox_inches='tight')\n",
    "\n",
    "# plt.close()"
   ]
  },
  {
   "cell_type": "code",
   "execution_count": 5,
   "metadata": {},
   "outputs": [
    {
     "data": {
      "text/plain": [
       "array([[[ 0.,  0.,  0., ...,  0.,  0.,  0.],\n",
       "        [ 0.,  0.,  0., ...,  0.,  0.,  0.],\n",
       "        [ 0.,  0.,  0., ...,  0.,  0.,  0.],\n",
       "        ..., \n",
       "        [ 0.,  0.,  0., ...,  0.,  0.,  0.],\n",
       "        [ 0.,  0.,  0., ...,  0.,  0.,  0.],\n",
       "        [ 0.,  0.,  0., ...,  0.,  0.,  0.]],\n",
       "\n",
       "       [[ 0.,  0.,  0., ...,  0.,  0.,  0.],\n",
       "        [ 0.,  0.,  0., ...,  0.,  0.,  0.],\n",
       "        [ 0.,  0.,  0., ...,  0.,  0.,  0.],\n",
       "        ..., \n",
       "        [ 0.,  0.,  0., ...,  0.,  0.,  0.],\n",
       "        [ 0.,  0.,  0., ...,  0.,  0.,  0.],\n",
       "        [ 0.,  0.,  0., ...,  0.,  0.,  0.]],\n",
       "\n",
       "       [[ 0.,  0.,  0., ...,  0.,  0.,  0.],\n",
       "        [ 0.,  0.,  0., ...,  0.,  0.,  0.],\n",
       "        [ 0.,  0.,  0., ...,  0.,  0.,  0.],\n",
       "        ..., \n",
       "        [ 0.,  0.,  0., ...,  0.,  0.,  0.],\n",
       "        [ 0.,  0.,  0., ...,  0.,  0.,  0.],\n",
       "        [ 0.,  0.,  0., ...,  0.,  0.,  0.]],\n",
       "\n",
       "       [[ 0.,  0.,  0., ...,  0.,  0.,  0.],\n",
       "        [ 0.,  0.,  0., ...,  0.,  0.,  0.],\n",
       "        [ 0.,  0.,  0., ...,  0.,  0.,  0.],\n",
       "        ..., \n",
       "        [ 0.,  0.,  0., ...,  0.,  0.,  0.],\n",
       "        [ 0.,  0.,  0., ...,  0.,  0.,  0.],\n",
       "        [ 0.,  0.,  0., ...,  0.,  0.,  0.]]])"
      ]
     },
     "execution_count": 5,
     "metadata": {},
     "output_type": "execute_result"
    }
   ],
   "source": [
    "meanErrorL2normFalse[1]"
   ]
  },
  {
   "cell_type": "code",
   "execution_count": null,
   "metadata": {},
   "outputs": [],
   "source": []
  }
 ],
 "metadata": {
  "kernelspec": {
   "display_name": "Python 2",
   "language": "python",
   "name": "python2"
  },
  "language_info": {
   "codemirror_mode": {
    "name": "ipython",
    "version": 2
   },
   "file_extension": ".py",
   "mimetype": "text/x-python",
   "name": "python",
   "nbconvert_exporter": "python",
   "pygments_lexer": "ipython2",
   "version": "2.7.12"
  }
 },
 "nbformat": 4,
 "nbformat_minor": 2
}
