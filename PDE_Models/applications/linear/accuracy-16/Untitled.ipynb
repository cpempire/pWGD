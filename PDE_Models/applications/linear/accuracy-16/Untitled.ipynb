{
 "cells": [
  {
   "cell_type": "code",
   "execution_count": 115,
   "metadata": {},
   "outputs": [],
   "source": [
    "from model_linear import *\n",
    "\n",
    "import os\n",
    "import time\n",
    "import pickle"
   ]
  },
  {
   "cell_type": "code",
   "execution_count": 116,
   "metadata": {},
   "outputs": [],
   "source": [
    "# check the stein/options to see all possible choices\n",
    "options[\"type_optimization\"] = \"gradientDescent\"\n",
    "options[\"is_projection\"] = False\n",
    "options[\"tol_projection\"] = 1.e-4\n",
    "options[\"is_precondition\"] = False\n",
    "options[\"type_approximation\"] = \"fisher\"\n",
    "options[\"coefficient_dimension\"] = 10\n",
    "\n",
    "options[\"number_particles\"] = 16\n",
    "options[\"number_particles_add\"] = 0\n",
    "options[\"add_number\"] = 0\n",
    "options[\"add_step\"] = 5\n",
    "options[\"add_rule\"] = 1\n",
    "\n",
    "options[\"type_scaling\"] = 1\n",
    "options[\"type_metric\"] = \"prior\"\n",
    "options[\"kernel_vectorized\"] = False\n",
    "\n",
    "options[\"WGF\"] = False\n",
    "\n",
    "options[\"type_Hessian\"] = \"lumped\"\n",
    "options[\"low_rank_Hessian\"] = False\n",
    "options[\"rank_Hessian\"] = 20\n",
    "options[\"rank_Hessian_tol\"] = 1.e-4\n",
    "options[\"low_rank_Hessian_average\"] = False\n",
    "options[\"rank_Hessian_average\"] = 20\n",
    "options[\"rank_Hessian_average_tol\"] = 1.e-4\n",
    "options[\"gauss_newton_approx\"] = True  # if error of unable to solve linear system occurs, use True\n",
    "\n",
    "options[\"max_iter\"] = 200\n",
    "options[\"step_tolerance\"] = 1e-7\n",
    "options[\"step_projection_tolerance\"] = 1e-6\n",
    "options[\"line_search\"] = True\n",
    "options[\"search_size\"] = 1e-1\n",
    "options[\"max_backtracking_iter\"] = 10\n",
    "options[\"cg_coarse_tolerance\"] = 0.5e-2\n",
    "options[\"print_level\"] = -1\n",
    "options[\"plot\"] = False"
   ]
  },
  {
   "cell_type": "code",
   "execution_count": 117,
   "metadata": {},
   "outputs": [],
   "source": [
    "# generate particles\n",
    "particle = Particle(model, options, comm)"
   ]
  },
  {
   "cell_type": "code",
   "execution_count": 118,
   "metadata": {},
   "outputs": [],
   "source": [
    "filename = \"data/laplace_nDimension_\" + str(particle.particle_dimension) + \".p\"\n",
    "if os.path.isfile(filename):\n",
    "    data_save = pickle.load(open(filename, 'rb'))\n",
    "    mean = model.generate_vector(PARAMETER)\n",
    "    mean.set_local(data_save[\"mean\"])\n",
    "    variance = model.generate_vector(PARAMETER)\n",
    "    variance.set_local(data_save[\"variance\"])\n",
    "    particle.mean_posterior = mean\n",
    "    particle.variance_posterior = variance\n",
    "    particle.trace_posterior = data_save[\"true_statistics\"][2]\n",
    "\n",
    "# evaluate the variation (gradient, Hessian) of the negative log likelihood function at given particles\n",
    "variation = Variation(model, particle, options, comm)\n",
    "\n",
    "# evaluate the kernel and its gradient at given particles\n",
    "kernel = Kernel(model, particle, variation, options, comm)"
   ]
  },
  {
   "cell_type": "code",
   "execution_count": 30,
   "metadata": {},
   "outputs": [
    {
     "data": {
      "text/plain": [
       "<dolfin.cpp.la.GenericVector; proxy of <Swig Object of type 'std::shared_ptr< dolfin::GenericVector > *' at 0x7f9ccc4b0a20> >"
      ]
     },
     "execution_count": 30,
     "metadata": {},
     "output_type": "execute_result"
    }
   ],
   "source": [
    "kernel.gradient_set"
   ]
  },
  {
   "cell_type": "code",
   "execution_count": 126,
   "metadata": {
    "scrolled": true
   },
   "outputs": [],
   "source": [
    "particle_local = np.concatenate([p.get_local().reshape([-1,1]) for p in particle.particles],1)"
   ]
  },
  {
   "cell_type": "code",
   "execution_count": 150,
   "metadata": {},
   "outputs": [],
   "source": [
    "def calculate_BM_bandwidth(X, ibw_in, alpha, explore_ratio=1.1):\n",
    "    N, d = X.shape\n",
    "    Y = X+np.sqrt(2*alpha)*np.random.randn(N,d)\n",
    "    X_sum = np.sum(X**2,axis=1)\n",
    "    Dxx = -2*np.matmul(X, X.T)+X_sum.reshape([-1,1])+X_sum.reshape([1,-1])\n",
    "    def get_obj_ibandw(bw):\n",
    "        Kxy = np.exp(-Dxx*0.5/bw)\n",
    "        dxKxy = np.matmul(Kxy,X)\n",
    "        sumKxy = np.sum(Kxy,1).reshape([-1,1])\n",
    "        xi = 1./bw*(dxKxy/sumKxy-X)\n",
    "        X_new = X-alpha*xi\n",
    "        res = MMD(X_new,Y,1.)\n",
    "        return res\n",
    "    obj_ibw_in = get_obj_ibandw(ibw_in)\n",
    "    epsi = 1e-6\n",
    "    grad_ibw_in = (get_obj_ibandw(ibw_in+epsi)-obj_ibw_in)/epsi\n",
    "    if grad_ibw_in<0:\n",
    "        ibw_1 = ibw_in*explore_ratio\n",
    "    else:\n",
    "        ibw_1 = ibw_in/explore_ratio\n",
    "    obj_ibw_1 = get_obj_ibandw(ibw_1)\n",
    "    slope_ibw = (obj_ibw_1-obj_ibw_in)/(ibw_1-ibw_in)\n",
    "    ibw_2 = (ibw_in * slope_ibw - 0.5 * grad_ibw_in * (ibw_1 + ibw_in)) / (slope_ibw - grad_ibw_in)\n",
    "    obj_ibw_2 = get_obj_ibandw(ibw_2)\n",
    "    if not np.isnan(ibw_2) and ibw_2>0:\n",
    "        if obj_ibw_1<obj_ibw_in:\n",
    "            if obj_ibw_2<obj_ibw_1:\n",
    "                ibw_out = ibw_2\n",
    "            else:\n",
    "                ibw_out = ibw_1\n",
    "        else:\n",
    "            if obj_ibw_2<obj_ibw_in:\n",
    "                ibw_out = ibw_2\n",
    "            else:\n",
    "                ibw_out = ibw_in\n",
    "    else:\n",
    "        if obj_ibw_1<obj_ibw_in:\n",
    "            ibw_out = ibw_1\n",
    "        else:\n",
    "            ibw_out = ibw_in\n",
    "        \n",
    "    return ibw_out"
   ]
  },
  {
   "cell_type": "code",
   "execution_count": 155,
   "metadata": {},
   "outputs": [
    {
     "data": {
      "text/plain": [
       "2.2078003095095968"
      ]
     },
     "execution_count": 155,
     "metadata": {},
     "output_type": "execute_result"
    }
   ],
   "source": [
    "calculate_BM_bandwidth(particle_local,2,1)"
   ]
  },
  {
   "cell_type": "code",
   "execution_count": 90,
   "metadata": {},
   "outputs": [],
   "source": [
    "def MMD(X,Y,bandwidth=1.):\n",
    "    # MMD based on Gaussian kernel\n",
    "    # X, Y are with shapes N*d and M*d\n",
    "    N, d = X.shape\n",
    "    M, _ = Y.shape\n",
    "    h = bandwidth\n",
    "    X_sum = np.sum(X**2,axis=1)\n",
    "    Y_sum = np.sum(Y**2,axis=1)\n",
    "    Dxx = -2*np.matmul(X, X.T)+X_sum.reshape([-1,1])+X_sum.reshape([1,-1])\n",
    "    Dxy = -2*np.matmul(X, Y.T)+X_sum.reshape([-1,1])+Y_sum.reshape([1,-1])\n",
    "    Dyy = -2*np.matmul(Y, Y.T)+Y_sum.reshape([-1,1])+Y_sum.reshape([1,-1])\n",
    "    Kxx = np.exp(-Dxx/(2*h))\n",
    "    Kxy = np.exp(-Dxy/(2*h))\n",
    "    Kyy = np.exp(-Dyy/(2*h))\n",
    "    print(np.sum(Kxy.ravel()))\n",
    "    res = 1./N**2*np.sum(Kxx.ravel())-2/(M*N)*np.sum(Kxy.ravel())+1./M**2*np.sum(Kyy.ravel())\n",
    "    res = res*(2*np.pi*h)**(-d/2)\n",
    "    return res"
   ]
  },
  {
   "cell_type": "code",
   "execution_count": 91,
   "metadata": {},
   "outputs": [],
   "source": [
    "X = 2*np.random.randn(5,4)\n",
    "Y = np.random.randn(8,4)+1"
   ]
  },
  {
   "cell_type": "code",
   "execution_count": 92,
   "metadata": {},
   "outputs": [
    {
     "name": "stdout",
     "output_type": "stream",
     "text": [
      "5.12154017453\n"
     ]
    }
   ],
   "source": [
    "res = MMD(X,X)"
   ]
  },
  {
   "cell_type": "code",
   "execution_count": 86,
   "metadata": {},
   "outputs": [
    {
     "data": {
      "text/plain": [
       "array([ 0.45758509,  0.52861056,  0.87451421,  4.51489687, -2.02097938,\n",
       "       -0.04879334,  1.76415551,  0.00706727, -0.64875285, -0.92858687,\n",
       "       -0.23446177, -0.16591782,  2.33144651, -0.39047869, -3.22194885,\n",
       "        2.31358819,  0.33524119, -2.78566337, -2.23917796, -1.27085672])"
      ]
     },
     "execution_count": 86,
     "metadata": {},
     "output_type": "execute_result"
    }
   ],
   "source": [
    "X.ravel()"
   ]
  },
  {
   "cell_type": "code",
   "execution_count": 129,
   "metadata": {},
   "outputs": [
    {
     "data": {
      "text/plain": [
       "True"
      ]
     },
     "execution_count": 129,
     "metadata": {},
     "output_type": "execute_result"
    }
   ],
   "source": [
    "np.isnan(np.nan)"
   ]
  },
  {
   "cell_type": "code",
   "execution_count": null,
   "metadata": {},
   "outputs": [],
   "source": []
  }
 ],
 "metadata": {
  "kernelspec": {
   "display_name": "Python 2",
   "language": "python",
   "name": "python2"
  },
  "language_info": {
   "codemirror_mode": {
    "name": "ipython",
    "version": 2
   },
   "file_extension": ".py",
   "mimetype": "text/x-python",
   "name": "python",
   "nbconvert_exporter": "python",
   "pygments_lexer": "ipython2",
   "version": "2.7.12"
  }
 },
 "nbformat": 4,
 "nbformat_minor": 2
}
